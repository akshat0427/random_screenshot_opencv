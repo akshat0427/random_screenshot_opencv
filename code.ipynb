{
 "cells": [
  {
   "cell_type": "code",
   "execution_count": 51,
   "id": "116238fa",
   "metadata": {},
   "outputs": [],
   "source": [
    "import cv2\n",
    "import os\n",
    "from datetime import timedelta"
   ]
  },
  {
   "cell_type": "code",
   "execution_count": 2,
   "id": "cd148f69",
   "metadata": {},
   "outputs": [
    {
     "data": {
      "text/plain": [
       "['.ipynb_checkpoints',\n",
       " 'redditsave.com_you_know_if_you_know-clor6t7hu3t91.mp4',\n",
       " 'Untitled.ipynb']"
      ]
     },
     "execution_count": 2,
     "metadata": {},
     "output_type": "execute_result"
    }
   ],
   "source": [
    "\n",
    "os.listdir()"
   ]
  },
  {
   "cell_type": "code",
   "execution_count": 47,
   "id": "d9837db8",
   "metadata": {},
   "outputs": [],
   "source": [
    "cam = cv2.VideoCapture(\"C:\\\\Users\\\\SHREE\\\\Desktop\\\\projects\\\\redditsave.com_are_aii_bc-870xhjg9bft91-360.mp4\")\n"
   ]
  },
  {
   "cell_type": "code",
   "execution_count": 201,
   "id": "a7aa32aa",
   "metadata": {},
   "outputs": [],
   "source": [
    " \n",
    "# create video capture object\n",
    "def get_duration(p):\n",
    "    \n",
    "    data = cv2.VideoCapture(f\"C:\\\\Users\\\\SHREE\\\\Desktop\\\\projects\\\\{p}\")\n",
    "\n",
    "    # count the number of frames\n",
    "    frames = data.get(cv2.CAP_PROP_FRAME_COUNT)\n",
    "    fps = data.get(cv2.CAP_PROP_FPS)\n",
    "\n",
    "    # calculate duration of the video\n",
    "    seconds = round(frames / fps)\n",
    "    video_time = timedelta(seconds=seconds)\n",
    "    \n",
    "    return str(video_time)"
   ]
  },
  {
   "cell_type": "code",
   "execution_count": 202,
   "id": "dc026f33",
   "metadata": {},
   "outputs": [
    {
     "data": {
      "text/plain": [
       "<function __main__.get_duration(p)>"
      ]
     },
     "execution_count": 202,
     "metadata": {},
     "output_type": "execute_result"
    }
   ],
   "source": [
    "# import cv2\n",
    "\n",
    "\n",
    "\n",
    "# fps = video.get(cv2.CAP_PROP_FPS)\n",
    "get_duration"
   ]
  },
  {
   "cell_type": "code",
   "execution_count": 203,
   "id": "66a66443",
   "metadata": {},
   "outputs": [
    {
     "data": {
      "text/plain": [
       "'0:00:09'"
      ]
     },
     "execution_count": 203,
     "metadata": {},
     "output_type": "execute_result"
    }
   ],
   "source": [
    "\n",
    "get_duration(\"redditsave.com_are_aii_bc-870xhjg9bft91-360.mp4\")"
   ]
  },
  {
   "cell_type": "code",
   "execution_count": 208,
   "id": "d7c3d04f",
   "metadata": {},
   "outputs": [],
   "source": [
    "def rndm_time(t):\n",
    "    try:\n",
    "        \n",
    "        r = []\n",
    "\n",
    "        x = str(t)\n",
    "        if str(video_time).split(':')[2][0] != '0':\n",
    "            \n",
    "            x = int(str(video_time).split(':')[2])\n",
    "            \n",
    "            while True:\n",
    "    \n",
    "    \n",
    "                r = sorted([random.randint(1, x) for i in range(5)])\n",
    "                if len(set(r)) == 5:\n",
    "                    \n",
    "        \n",
    "                    break\n",
    "                else:\n",
    "                    r = sorted([random.randint(1, 20) for x in range(5)])\n",
    "            return r\n",
    "       \n",
    "        else:          \n",
    "            \n",
    "            x = int(str(video_time).split(':')[2][1])\n",
    "            while True:\n",
    "    \n",
    "    \n",
    "                r = sorted([random.randint(1, x) for i in range(5)])\n",
    "                if len(set(r)) == 5:\n",
    "                    \n",
    "        \n",
    "                    break\n",
    "                else:\n",
    "                    r = sorted([random.randint(1, 20) for x in range(5)])\n",
    "            return r\n",
    "                \n",
    "#             print(x)\n",
    "        \n",
    "        \n",
    "    except Exception as e:\n",
    "        \n",
    "        print(\"an error came\",e)\n",
    "        \n",
    "        "
   ]
  },
  {
   "cell_type": "code",
   "execution_count": 209,
   "id": "c64a91e3",
   "metadata": {},
   "outputs": [
    {
     "data": {
      "text/plain": [
       "[1, 2, 4, 6, 8]"
      ]
     },
     "execution_count": 209,
     "metadata": {},
     "output_type": "execute_result"
    }
   ],
   "source": [
    "\n",
    "\n",
    "\n",
    "rndm_time(video_time)\n",
    "# l = sorted([1,3,4,6])"
   ]
  },
  {
   "cell_type": "code",
   "execution_count": 222,
   "id": "2af1a284",
   "metadata": {},
   "outputs": [],
   "source": [
    "import cv2\n",
    "\n",
    "\n",
    "# Opens the Video file\n",
    "cap = cv2.VideoCapture(\"C:\\\\Users\\\\SHREE\\\\Desktop\\\\projects\\\\redditsave.com_sed_may_may-3awmd1wl3rs91-360.mp4\")\n",
    "\n",
    "i=0\n",
    "l = []\n",
    "while(cap.isOpened()):\n",
    "    ret, frame = cap.read()\n",
    "    if ret == False:\n",
    "        break\n",
    "        \n",
    "    l.append(frame)\n",
    "        \n",
    "    \n",
    "#     print(frame)\n",
    "#     cv2.imwrite('kang'+str(i)+'.jpg',frame)\n",
    "    i+=1\n",
    "\n",
    "cap.release()\n",
    "cv2.destroyAllWindows()"
   ]
  },
  {
   "cell_type": "code",
   "execution_count": 231,
   "id": "6e3a6f66",
   "metadata": {},
   "outputs": [
    {
     "name": "stdout",
     "output_type": "stream",
     "text": [
      "150\n",
      "120\n",
      "100\n",
      "86\n",
      "75\n"
     ]
    }
   ],
   "source": [
    "for i in rndm_time(get_duration('redditsave.com_sed_may_may-3awmd1wl3rs91-360.mp4')):\n",
    "    try:\n",
    "        \n",
    "        print(round(len(l) /i ))\n",
    "        cv2.imwrite('kang'+str(i)+'.jpg',l[round(len(l)/i)])\n",
    "    except:\n",
    "        cv2.imwrite('kang'+str(i)+'.jpg',l[round(len(l)/i+1)])\n",
    "        \n",
    "    "
   ]
  },
  {
   "cell_type": "code",
   "execution_count": 93,
   "id": "aec7298f",
   "metadata": {},
   "outputs": [
    {
     "data": {
      "text/plain": [
       "'0'"
      ]
     },
     "execution_count": 93,
     "metadata": {},
     "output_type": "execute_result"
    }
   ],
   "source": [
    "\n",
    "str(video_time).split(':')[2][0]"
   ]
  },
  {
   "cell_type": "code",
   "execution_count": 165,
   "id": "49a0b427",
   "metadata": {},
   "outputs": [
    {
     "name": "stdout",
     "output_type": "stream",
     "text": [
      "yp [3, 4, 11, 13, 16]\n"
     ]
    }
   ],
   "source": [
    "c=0\n",
    "while True:\n",
    "    \n",
    "    \n",
    "    r = sorted([random.randint(1, 20) for x in range(5)])\n",
    "    if len(set(r)) == 5:\n",
    "        print('yp', r)\n",
    "        \n",
    "        break\n",
    "    else:\n",
    "        r = sorted([random.randint(1, 20) for x in range(5)])\n",
    "    \n",
    "        \n",
    "        \n",
    "        \n",
    "    "
   ]
  },
  {
   "cell_type": "code",
   "execution_count": 152,
   "id": "ca3d552c",
   "metadata": {},
   "outputs": [
    {
     "data": {
      "text/plain": [
       "4"
      ]
     },
     "execution_count": 152,
     "metadata": {},
     "output_type": "execute_result"
    }
   ],
   "source": [
    "\n",
    "len(set(r))"
   ]
  },
  {
   "cell_type": "code",
   "execution_count": 150,
   "id": "79b4f990",
   "metadata": {},
   "outputs": [],
   "source": [
    "r = [1,2,3,4,3]"
   ]
  },
  {
   "cell_type": "code",
   "execution_count": 217,
   "id": "84c8edfd",
   "metadata": {},
   "outputs": [
    {
     "data": {
      "text/plain": [
       "91.66666666666667"
      ]
     },
     "execution_count": 217,
     "metadata": {},
     "output_type": "execute_result"
    }
   ],
   "source": [
    "len(l)/\n"
   ]
  },
  {
   "cell_type": "code",
   "execution_count": 224,
   "id": "d5858c90",
   "metadata": {},
   "outputs": [
    {
     "data": {
      "text/plain": [
       "602"
      ]
     },
     "execution_count": 224,
     "metadata": {},
     "output_type": "execute_result"
    }
   ],
   "source": [
    "\n",
    "len(l)"
   ]
  },
  {
   "cell_type": "code",
   "execution_count": null,
   "id": "ab5ce4f3",
   "metadata": {},
   "outputs": [],
   "source": []
  }
 ],
 "metadata": {
  "kernelspec": {
   "display_name": "Python 3 (ipykernel)",
   "language": "python",
   "name": "python3"
  },
  "language_info": {
   "codemirror_mode": {
    "name": "ipython",
    "version": 3
   },
   "file_extension": ".py",
   "mimetype": "text/x-python",
   "name": "python",
   "nbconvert_exporter": "python",
   "pygments_lexer": "ipython3",
   "version": "3.10.0"
  }
 },
 "nbformat": 4,
 "nbformat_minor": 5
}
